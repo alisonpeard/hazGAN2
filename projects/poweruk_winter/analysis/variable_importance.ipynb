{
 "cells": [
  {
   "cell_type": "code",
   "execution_count": 1,
   "id": "a377ea3c-4b8d-4a54-98bd-731fe0be6052",
   "metadata": {},
   "outputs": [
    {
     "name": "stderr",
     "output_type": "stream",
     "text": [
      "ERROR 1: PROJ: proj_create_from_database: Open of /hn01-home/spet5107/micromamba/envs/hazGAN/share/proj failed\n"
     ]
    }
   ],
   "source": [
    "import os\n",
    "import yaml\n",
    "from scipy.special import expit\n",
    "import numpy as np\n",
    "import pandas as pd\n",
    "import xarray as xr\n",
    "import geopandas as gpd\n",
    "import matplotlib.pyplot as plt\n",
    "from regionmask import mask_geopandas\n",
    "import cartopy.crs as ccrs\n",
    "import cartopy.feature as cfeature\n",
    "import cmocean.cm as cmo\n",
    "\n",
    "plt.rcParams[\"font.family\"] = [\"serif\", \"sans-serif\", \"monospace\"][0]\n",
    "\n",
    "wd = \"hazGAN2/projects/poweruk_winter\"\n",
    "\n",
    "ensemble_years = [15, 500][1]\n",
    "\n",
    "with open(os.path.join(wd, \"config.yaml\"), \"r\") as stream:\n",
    "    config = yaml.safe_load(stream)\n",
    "\n",
    "regions = [\"East Midlands\", \"West Midlands\", \"South West England\", \"South Wales\"]\n",
    "region_of_interest = regions[0]\n",
    "\n",
    "season = config[\"sfunc\"]\n",
    "local_crs = config[\"local_crs\"]\n",
    "\n",
    "datasets = [\"training\", \"generated\"]\n",
    "\n",
    "training = xr.open_dataset(os.path.join(\n",
    "    wd, \"analysis\", \"data\", f\"risk_profile_{region_of_interest.lower()}_training_{season}_{15}-ensembles.nc\")\n",
    ")\n",
    "\n",
    "generated = xr.open_dataset(os.path.join(\n",
    "    wd, \"analysis\", \"data\", f\"risk_profile_{region_of_interest.lower()}_generated_{season}_{ensemble_years}-ensembles.nc\")\n",
    ")\n",
    "\n",
    "gen_ensembles = generated.attrs[\"n_ensembles\"]\n",
    "ensemble_years = generated.attrs[\"ensemble_years\"]\n",
    "rp_max = generated.attrs[\"rp_max\"]"
   ]
  },
  {
   "cell_type": "code",
   "execution_count": 2,
   "id": "335ef470-e56e-4b27-9a51-862b5ad25f78",
   "metadata": {},
   "outputs": [
    {
     "data": {
      "text/html": [
       "<div>\n",
       "<style scoped>\n",
       "    .dataframe tbody tr th:only-of-type {\n",
       "        vertical-align: middle;\n",
       "    }\n",
       "\n",
       "    .dataframe tbody tr th {\n",
       "        vertical-align: top;\n",
       "    }\n",
       "\n",
       "    .dataframe thead th {\n",
       "        text-align: right;\n",
       "    }\n",
       "</style>\n",
       "<table border=\"1\" class=\"dataframe\">\n",
       "  <thead>\n",
       "    <tr style=\"text-align: right;\">\n",
       "      <th></th>\n",
       "      <th>Variables</th>\n",
       "      <th>Coefficients</th>\n",
       "      <th>P_value</th>\n",
       "    </tr>\n",
       "  </thead>\n",
       "  <tbody>\n",
       "    <tr>\n",
       "      <th>0</th>\n",
       "      <td>Intercept</td>\n",
       "      <td>-13.969870</td>\n",
       "      <td>1.330000e-13</td>\n",
       "    </tr>\n",
       "    <tr>\n",
       "      <th>1</th>\n",
       "      <td>Wind</td>\n",
       "      <td>0.432214</td>\n",
       "      <td>2.120000e-11</td>\n",
       "    </tr>\n",
       "    <tr>\n",
       "      <th>2</th>\n",
       "      <td>Rainfall</td>\n",
       "      <td>13.416561</td>\n",
       "      <td>3.991401e-02</td>\n",
       "    </tr>\n",
       "    <tr>\n",
       "      <th>3</th>\n",
       "      <td>Direction</td>\n",
       "      <td>0.014080</td>\n",
       "      <td>2.776643e-03</td>\n",
       "    </tr>\n",
       "    <tr>\n",
       "      <th>4</th>\n",
       "      <td>Spring</td>\n",
       "      <td>0.537586</td>\n",
       "      <td>3.116006e-01</td>\n",
       "    </tr>\n",
       "  </tbody>\n",
       "</table>\n",
       "</div>"
      ],
      "text/plain": [
       "   Variables  Coefficients       P_value\n",
       "0  Intercept    -13.969870  1.330000e-13\n",
       "1       Wind      0.432214  2.120000e-11\n",
       "2   Rainfall     13.416561  3.991401e-02\n",
       "3  Direction      0.014080  2.776643e-03\n",
       "4     Spring      0.537586  3.116006e-01"
      ]
     },
     "execution_count": 2,
     "metadata": {},
     "output_type": "execute_result"
    }
   ],
   "source": [
    "coef_path = os.path.join(wd, \"resources\", \"E_Mid_All_Variable_Model_coefficients_wind-thresh=20.csv\")\n",
    "coefs = pd.read_csv(coef_path)\n",
    "coefs.head()"
   ]
  },
  {
   "cell_type": "markdown",
   "id": "5c5c0403-1179-4e06-ac6e-6e2cead080fc",
   "metadata": {},
   "source": [
    "## Marginal contribution to the probability"
   ]
  },
  {
   "cell_type": "code",
   "execution_count": 7,
   "id": "a2189fb4-30ef-47b3-b4aa-a752b8d2d04c",
   "metadata": {},
   "outputs": [],
   "source": [
    "data = generated\n",
    "norm = True"
   ]
  },
  {
   "cell_type": "code",
   "execution_count": 8,
   "id": "cc7720d3-5c41-4eed-bd13-7f859cbdf2c8",
   "metadata": {},
   "outputs": [],
   "source": [
    "vx_clim  = data.vx.quantile(0.25, dim=[\"time\"]).item()\n",
    "dx_clim  = 0\n",
    "r30_clim = data.r30.quantile(0.25, dim=[\"time\"]).item()\n",
    "\n",
    "ones = np.ones(data.vx.shape).reshape(-1, 1)\n",
    "zeros = np.zeros(data.vx.shape).reshape(-1, 1)\n",
    "\n",
    "X_full = np.hstack([\n",
    "    ones,\n",
    "    data.vx.values.reshape(-1, 1),\n",
    "    data.r30.values.reshape(-1, 1),\n",
    "    data.dx.values.reshape(-1, 1),\n",
    "    zeros,\n",
    "    zeros,\n",
    "    zeros\n",
    "    ])\n",
    "\n",
    "X_vx = np.hstack([\n",
    "    ones,\n",
    "    vx_clim * np.ones(data.vx.shape).reshape(-1, 1),\n",
    "    data.r30.values.reshape(-1, 1),\n",
    "    data.dx.values.reshape(-1, 1),\n",
    "    zeros,\n",
    "    zeros,\n",
    "    zeros\n",
    "    ])\n",
    "\n",
    "X_dx = np.hstack([\n",
    "    ones,\n",
    "    data.vx.values.reshape(-1, 1),\n",
    "    data.r30.values.reshape(-1, 1),\n",
    "    dx_clim * np.ones(data.vx.shape).reshape(-1, 1),\n",
    "    zeros,\n",
    "    zeros,\n",
    "    zeros\n",
    "    ])\n",
    "\n",
    "X_r30 = np.hstack([\n",
    "    ones,\n",
    "    data.vx.values.reshape(-1, 1),\n",
    "    r30_clim * np.ones(data.vx.shape).reshape(-1, 1),\n",
    "    data.dx.values.reshape(-1, 1),\n",
    "    zeros,\n",
    "    zeros,\n",
    "    zeros\n",
    "    ])\n",
    "\n",
    "\n",
    "probs_full = expit(np.dot(X_full, coefs[\"Coefficients\"].values))\n",
    "probs_vx = expit(np.dot(X_vx, coefs[\"Coefficients\"].values))\n",
    "probs_dx = expit(np.dot(X_dx, coefs[\"Coefficients\"].values))\n",
    "probs_r30 = expit(np.dot(X_r30, coefs[\"Coefficients\"].values))\n",
    "\n",
    "contrib_vx = probs_full - probs_vx\n",
    "contrib_dx = probs_full - probs_dx\n",
    "contrib_r30 = probs_full - probs_r30\n",
    "\n",
    "# standardise them to sum to zero\n",
    "if norm:\n",
    "    total_contrib = contrib_vx + contrib_dx + contrib_r30\n",
    "    \n",
    "    contrib_vx = contrib_vx / total_contrib\n",
    "    contrib_dx = contrib_dx / total_contrib\n",
    "    contrib_r30 = contrib_r30 / total_contrib\n"
   ]
  },
  {
   "cell_type": "code",
   "execution_count": 10,
   "id": "5b5a73be-65ec-44d1-855e-a4b5113680cf",
   "metadata": {},
   "outputs": [
    {
     "data": {
      "text/plain": [
       "array([3.26363147e-02, 3.26385972e-02, 3.26408799e-02, ...,\n",
       "       1.55566434e+02, 2.33349650e+02, 4.66666667e+02])"
      ]
     },
     "execution_count": 10,
     "metadata": {},
     "output_type": "execute_result"
    }
   ],
   "source": [
    "data.return_period.data"
   ]
  },
  {
   "cell_type": "code",
   "execution_count": 37,
   "id": "2097a808-9e3e-43ed-a542-86603e7b522e",
   "metadata": {},
   "outputs": [
    {
     "name": "stderr",
     "output_type": "stream",
     "text": [
      "/tmp/ipykernel_2450007/3640888280.py:9: FutureWarning: The default of observed=False is deprecated and will be changed to True in a future version of pandas. Pass observed=False to retain current behavior or observed=True to adopt the future default and silence this warning.\n",
      "  df = df.groupby(\"prob\").mean() # unsure if mean is the best\n"
     ]
    },
    {
     "data": {
      "text/html": [
       "<div>\n",
       "<style scoped>\n",
       "    .dataframe tbody tr th:only-of-type {\n",
       "        vertical-align: middle;\n",
       "    }\n",
       "\n",
       "    .dataframe tbody tr th {\n",
       "        vertical-align: top;\n",
       "    }\n",
       "\n",
       "    .dataframe thead th {\n",
       "        text-align: right;\n",
       "    }\n",
       "</style>\n",
       "<table border=\"1\" class=\"dataframe\">\n",
       "  <thead>\n",
       "    <tr style=\"text-align: right;\">\n",
       "      <th></th>\n",
       "      <th>$r^{{30}}$</th>\n",
       "      <th>$d^X$</th>\n",
       "      <th>$v^X$</th>\n",
       "    </tr>\n",
       "    <tr>\n",
       "      <th>prob</th>\n",
       "      <th></th>\n",
       "      <th></th>\n",
       "      <th></th>\n",
       "    </tr>\n",
       "  </thead>\n",
       "  <tbody>\n",
       "    <tr>\n",
       "      <th>0.05</th>\n",
       "      <td>0.127821</td>\n",
       "      <td>0.420514</td>\n",
       "      <td>0.451665</td>\n",
       "    </tr>\n",
       "    <tr>\n",
       "      <th>0.15</th>\n",
       "      <td>0.078059</td>\n",
       "      <td>0.430048</td>\n",
       "      <td>0.491893</td>\n",
       "    </tr>\n",
       "    <tr>\n",
       "      <th>0.25</th>\n",
       "      <td>0.082973</td>\n",
       "      <td>0.403510</td>\n",
       "      <td>0.513517</td>\n",
       "    </tr>\n",
       "    <tr>\n",
       "      <th>0.35</th>\n",
       "      <td>0.083801</td>\n",
       "      <td>0.388910</td>\n",
       "      <td>0.527289</td>\n",
       "    </tr>\n",
       "    <tr>\n",
       "      <th>0.45</th>\n",
       "      <td>0.069264</td>\n",
       "      <td>0.370610</td>\n",
       "      <td>0.560125</td>\n",
       "    </tr>\n",
       "  </tbody>\n",
       "</table>\n",
       "</div>"
      ],
      "text/plain": [
       "      $r^{{30}}$     $d^X$     $v^X$\n",
       "prob                                \n",
       "0.05    0.127821  0.420514  0.451665\n",
       "0.15    0.078059  0.430048  0.491893\n",
       "0.25    0.082973  0.403510  0.513517\n",
       "0.35    0.083801  0.388910  0.527289\n",
       "0.45    0.069264  0.370610  0.560125"
      ]
     },
     "execution_count": 37,
     "metadata": {},
     "output_type": "execute_result"
    }
   ],
   "source": [
    "time = training[\"time\"].values\n",
    "\n",
    "df = pd.DataFrame({r\"$r^{{30}}$\": contrib_r30, r\"$d^X$\": contrib_dx, r\"$v^X$\": contrib_vx, \"prob\": probs_full})\n",
    "\n",
    "bins = np.linspace(0, 1, 11)\n",
    "labels = [f\"{p:.2f}\" for p in np.linspace(0.05, 0.95, 10)]\n",
    "\n",
    "df[\"prob\"] = pd.cut(df['prob'], bins=bins, right=False, labels=labels)\n",
    "df = df.groupby(\"prob\").mean() # unsure if mean is the best\n",
    "df.head()"
   ]
  },
  {
   "cell_type": "code",
   "execution_count": null,
   "id": "1c70d327-2c5a-4e56-8b4d-c08d7c4ac3a2",
   "metadata": {},
   "outputs": [],
   "source": []
  },
  {
   "cell_type": "code",
   "execution_count": 38,
   "id": "6a72eb0a-8488-46e6-a50b-6360dd00a1d3",
   "metadata": {},
   "outputs": [
    {
     "data": {
      "image/png": "[encoded data removed]",
      "text/plain": [
       "<Figure size 600x300 with 1 Axes>"
      ]
     },
     "metadata": {},
     "output_type": "display_data"
    }
   ],
   "source": [
    "fig, ax = plt.subplots(figsize=(6,3))\n",
    "\n",
    "df.plot.bar(stacked=True, color={r\"$r^{{30}}$\":\"steelblue\", r\"$d^X$\": \"tan\", r\"$v^X$\": \"darkolivegreen\"},\n",
    "            width=0.9, rot=45, edgecolor=\"k\", linewidth=0.5, ax=ax,\n",
    "            ylabel=\"Marginal contribution)\",\n",
    "            xlabel=r\"P($F^N>F^N_{95}$)\");\n",
    "\n",
    "ax.spines[['right', 'top']].set_visible(False)\n",
    "fig.tight_layout()\n",
    "\n",
    "fig.savefig(os.path.join(wd, \"results\", \"figures\", \"marginal_contributions.png\"), dpi=300, transparent=True, bbox_inches=\"tight\")"
   ]
  },
  {
   "cell_type": "code",
   "execution_count": 250,
   "id": "cefbeb4b-cd96-4ce4-8bad-213e328a1cd5",
   "metadata": {},
   "outputs": [
    {
     "data": {
      "text/plain": [
       "'hazGAN2/projects/poweruk_winter'"
      ]
     },
     "execution_count": 250,
     "metadata": {},
     "output_type": "execute_result"
    }
   ],
   "source": [
    "wd"
   ]
  },
  {
   "cell_type": "code",
   "execution_count": null,
   "id": "f7d35d42-a0e9-4249-a22e-b76e0c52d3e0",
   "metadata": {},
   "outputs": [],
   "source": []
  }
 ],
 "metadata": {
  "kernelspec": {
   "display_name": "“hazGAN” ",
   "language": "python",
   "name": "hazgan"
  },
  "language_info": {
   "codemirror_mode": {
    "name": "ipython",
    "version": 3
   },
   "file_extension": ".py",
   "mimetype": "text/x-python",
   "name": "python",
   "nbconvert_exporter": "python",
   "pygments_lexer": "ipython3",
   "version": "3.10.13"
  }
 },
 "nbformat": 4,
 "nbformat_minor": 5
}
